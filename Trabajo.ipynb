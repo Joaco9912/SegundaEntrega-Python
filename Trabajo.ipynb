{
 "cells": [
  {
   "cell_type": "markdown",
   "metadata": {},
   "source": [
    "**Entrega 2 Python**"
   ]
  },
  {
   "cell_type": "code",
   "execution_count": 28,
   "metadata": {},
   "outputs": [],
   "source": [
    "from modulo.funciones import*"
   ]
  },
  {
   "cell_type": "code",
   "execution_count": 29,
   "metadata": {},
   "outputs": [],
   "source": [
    "nombres = \"\"\"Agustin,Yanina,Andres,Ariadna,Bautista,Carolina,Cesar,David,Diego,Dolores,\n",
    "Dylan,Eliana,Emanuel,Fabian,Noelia,Francisca,Federico,Fernanda,Gonzalo,Nancy\"\"\"\n",
    "\n",
    "goles=[0,10,4,0,5,14,0,0,7,2,1,1,1,5,6,1,1,2,0,11]\n",
    "goles_evitados=[0,2,0,0,5,2,0,0,1,2,0,5,5,0,1,0,2,3,0,0]\n",
    "asistencias=[0,5,1,0,5,2,0,0,1,2,1,5,5,0,1,0,2,3,1,0]\n",
    "total_partidos=25"
   ]
  },
  {
   "cell_type": "code",
   "execution_count": 30,
   "metadata": {},
   "outputs": [
    {
     "name": "stdout",
     "output_type": "stream",
     "text": [
      "{'Agustin': (0, 0, 0), 'Yanina': (10, 2, 5), 'Andres': (4, 0, 1), 'Ariadna': (0, 0, 0), 'Bautista': (5, 5, 5), 'Carolina': (14, 2, 2), 'Cesar': (0, 0, 0), 'David': (0, 0, 0), 'Diego': (7, 1, 1), 'Dolores': (2, 2, 2), 'Dylan': (1, 0, 1), 'Eliana': (1, 5, 5), 'Emanuel': (1, 5, 5), 'Fabian': (5, 0, 0), 'Noelia': (6, 1, 1), 'Francisca': (1, 0, 0), 'Federico': (1, 2, 2), 'Fernanda': (2, 3, 3), 'Gonzalo': (0, 0, 1), 'Nancy': (11, 0, 0)}\n"
     ]
    }
   ],
   "source": [
    "estructura=generar_nueva(nombres,goles,goles_evitados,asistencias)\n",
    "print(estructura)"
   ]
  },
  {
   "cell_type": "code",
   "execution_count": 31,
   "metadata": {},
   "outputs": [
    {
     "name": "stdout",
     "output_type": "stream",
     "text": [
      "El nombre del maximo goleador/a es Carolina con un total de 14 goles\n"
     ]
    }
   ],
   "source": [
    "maximo_goleador=goleador(estructura)\n",
    "print(f\"El nombre del maximo goleador/a es {maximo_goleador[0]} con un total de {maximo_goleador[1]} goles\")"
   ]
  },
  {
   "cell_type": "code",
   "execution_count": 32,
   "metadata": {},
   "outputs": [
    {
     "name": "stdout",
     "output_type": "stream",
     "text": [
      "El jugador/a mas influyentes es ('Carolina', 25.5)\n"
     ]
    }
   ],
   "source": [
    "Influyente=jugador_mas_influyente(estructura)\n",
    "print(f\"El jugador/a mas influyentes es {Influyente}\")"
   ]
  },
  {
   "cell_type": "code",
   "execution_count": 33,
   "metadata": {},
   "outputs": [
    {
     "name": "stdout",
     "output_type": "stream",
     "text": [
      "El promedio de goles del equipo fue de 2.84\n"
     ]
    }
   ],
   "source": [
    "Promedio_goles_equipo = calcular_promedio_equipo(estructura,total_partidos)\n",
    "print(f\"El promedio de goles del equipo fue de {Promedio_goles_equipo}\")"
   ]
  },
  {
   "cell_type": "code",
   "execution_count": 34,
   "metadata": {},
   "outputs": [
    {
     "name": "stdout",
     "output_type": "stream",
     "text": [
      "El promedio del goles del goleador/a es de 0.56\n"
     ]
    }
   ],
   "source": [
    "Promedio_goleador=calcular_promedio_jugador(maximo_goleador,total_partidos)\n",
    "print(f\"El promedio del goles del goleador/a es de {Promedio_goleador}\")"
   ]
  }
 ],
 "metadata": {
  "kernelspec": {
   "display_name": "Entorno",
   "language": "python",
   "name": "python3"
  },
  "language_info": {
   "codemirror_mode": {
    "name": "ipython",
    "version": 3
   },
   "file_extension": ".py",
   "mimetype": "text/x-python",
   "name": "python",
   "nbconvert_exporter": "python",
   "pygments_lexer": "ipython3",
   "version": "3.11.8"
  }
 },
 "nbformat": 4,
 "nbformat_minor": 2
}
